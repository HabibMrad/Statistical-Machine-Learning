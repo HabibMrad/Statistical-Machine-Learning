{
  "nbformat": 4,
  "nbformat_minor": 0,
  "metadata": {
    "colab": {
      "name": "AML_Project_Mengmeng_76_Percent.ipynb",
      "version": "0.3.2",
      "provenance": [],
      "collapsed_sections": [],
      "toc_visible": true
    },
    "kernelspec": {
      "name": "python3",
      "display_name": "Python 3"
    },
    "accelerator": "GPU"
  },
  "cells": [
    {
      "metadata": {
        "id": "zHBCxfQnidRl",
        "colab_type": "text"
      },
      "cell_type": "markdown",
      "source": [
        "# INTRODUCTION\n",
        "\n",
        "The CIFAR10 dataset is an important image classification dataset along with those that we have seen in class\n",
        "(MNIST, SVHN, ImageNet,...). You can learn about and download this dataset [at this link].\n",
        "\n",
        "It is a challenging classification problem with ten classes (airplanes, automobiles, birds, cats, deer, dogs, frogs,\n",
        "horses, ships, and trucks), but also one that is manageable in size such that you should be able to get solid\n",
        "performance without a large scale GPU implementation."
      ]
    },
    {
      "metadata": {
        "id": "TTLK_TMIirsr",
        "colab_type": "text"
      },
      "cell_type": "markdown",
      "source": [
        "## Import Data\n",
        "\n",
        "Let us import data in the following script. We define a function in the following to download the data into local environment."
      ]
    },
    {
      "metadata": {
        "id": "v_6_zxwVGBpK",
        "colab_type": "code",
        "outputId": "be18be3e-225e-4e9f-8183-fb65aa1d0f02",
        "colab": {
          "base_uri": "https://localhost:8080/",
          "height": 224
        }
      },
      "cell_type": "code",
      "source": [
        "!apt-get install -y -qq software-properties-common python-software-properties module-init-tools\n",
        "!add-apt-repository -y ppa:alessandro-strada/ppa 2>&1 > /dev/null\n",
        "!apt-get update -qq 2>&1 > /dev/null\n",
        "!apt-get -y install -qq google-drive-ocamlfuse fuse\n",
        "auth.authenticate_user()\n",
        "from oauth2client.client import GoogleCredentials\n",
        "creds = GoogleCredentials.get_application_default()\n",
        "import getpass\n",
        "!google-drive-ocamlfuse -headless -id={creds.client_id} -secret={creds.client_secret} < /dev/null 2>&1 | grep URL\n",
        "vcode = getpass.getpass()\n",
        "!echo {vcode} | google-drive-ocamlfuse -headless -id={creds.client_id} -secret={creds.client_secret}"
      ],
      "execution_count": 0,
      "outputs": [
        {
          "output_type": "stream",
          "text": [
            "E: Package 'python-software-properties' has no installation candidate\n",
            "Selecting previously unselected package google-drive-ocamlfuse.\n",
            "(Reading database ... 110377 files and directories currently installed.)\n",
            "Preparing to unpack .../google-drive-ocamlfuse_0.7.1-0ubuntu3~ubuntu18.04.1_amd64.deb ...\n",
            "Unpacking google-drive-ocamlfuse (0.7.1-0ubuntu3~ubuntu18.04.1) ...\n",
            "Setting up google-drive-ocamlfuse (0.7.1-0ubuntu3~ubuntu18.04.1) ...\n",
            "Processing triggers for man-db (2.8.3-2ubuntu0.1) ...\n",
            "Please, open the following URL in a web browser: https://accounts.google.com/o/oauth2/auth?client_id=32555940559.apps.googleusercontent.com&redirect_uri=urn%3Aietf%3Awg%3Aoauth%3A2.0%3Aoob&scope=https%3A%2F%2Fwww.googleapis.com%2Fauth%2Fdrive&response_type=code&access_type=offline&approval_prompt=force\n",
            "··········\n",
            "Please, open the following URL in a web browser: https://accounts.google.com/o/oauth2/auth?client_id=32555940559.apps.googleusercontent.com&redirect_uri=urn%3Aietf%3Awg%3Aoauth%3A2.0%3Aoob&scope=https%3A%2F%2Fwww.googleapis.com%2Fauth%2Fdrive&response_type=code&access_type=offline&approval_prompt=force\n",
            "Please enter the verification code: Access token retrieved correctly.\n"
          ],
          "name": "stdout"
        }
      ]
    },
    {
      "metadata": {
        "id": "m1lCLZrUM97f",
        "colab_type": "code",
        "colab": {}
      },
      "cell_type": "code",
      "source": [
        ""
      ],
      "execution_count": 0,
      "outputs": []
    },
    {
      "metadata": {
        "id": "0njO5IfgrjCB",
        "colab_type": "code",
        "outputId": "c5bddaed-e599-4b1e-c996-ad47b1f1ee80",
        "colab": {
          "base_uri": "https://localhost:8080/",
          "height": 34
        }
      },
      "cell_type": "code",
      "source": [
        "from urllib.request import urlretrieve\n",
        "from os.path import isfile, isdir\n",
        "from tqdm import tqdm \n",
        "import tarfile\n",
        "\n",
        "cifar10_dataset_folder_path = 'cifar-10-batches-py'\n",
        "\n",
        "class DownloadProgress(tqdm):\n",
        "    last_block = 0\n",
        "\n",
        "    def hook(self, block_num=1, block_size=1, total_size=None):\n",
        "        self.total = total_size\n",
        "        self.update((block_num - self.last_block) * block_size)\n",
        "        self.last_block = block_num\n",
        "\n",
        "\"\"\" \n",
        "    check if the data (zip) file is already downloaded\n",
        "    if not, download it from \"https://www.cs.toronto.edu/~kriz/cifar-10-python.tar.gz\" and save as cifar-10-python.tar.gz\n",
        "\"\"\"\n",
        "if not isfile('cifar-10-python.tar.gz'):\n",
        "    with DownloadProgress(unit='B', unit_scale=True, miniters=1, desc='CIFAR-10 Dataset') as pbar:\n",
        "        urlretrieve(\n",
        "            'https://www.cs.toronto.edu/~kriz/cifar-10-python.tar.gz',\n",
        "            'cifar-10-python.tar.gz',\n",
        "            pbar.hook)\n",
        "\n",
        "if not isdir(cifar10_dataset_folder_path):\n",
        "    with tarfile.open('cifar-10-python.tar.gz') as tar:\n",
        "        tar.extractall()\n",
        "        tar.close()\n"
      ],
      "execution_count": 0,
      "outputs": [
        {
          "output_type": "stream",
          "text": [
            "CIFAR-10 Dataset: 171MB [00:29, 5.70MB/s]                           \n"
          ],
          "name": "stderr"
        }
      ]
    },
    {
      "metadata": {
        "id": "GTuLSIcutzoH",
        "colab_type": "code",
        "colab": {}
      },
      "cell_type": "code",
      "source": [
        "import pickle\n",
        "import numpy as np\n",
        "import matplotlib.pyplot as plt\n"
      ],
      "execution_count": 0,
      "outputs": []
    },
    {
      "metadata": {
        "id": "G7HrVAAR9-W0",
        "colab_type": "text"
      },
      "cell_type": "markdown",
      "source": [
        "## Understanding the original labels\n",
        "\n",
        "The label data is just a list of 10000 numbers in the range 0-9, which corresponds to each of the 10 classes in CIFAR-10. "
      ]
    },
    {
      "metadata": {
        "id": "HkDlKmOWt4Pz",
        "colab_type": "code",
        "colab": {}
      },
      "cell_type": "code",
      "source": [
        "def load_label_names():\n",
        "    return ['airplane', 'automobile', 'bird', 'cat', 'deer', 'dog', 'frog', 'horse', 'ship', 'truck']\n"
      ],
      "execution_count": 0,
      "outputs": []
    },
    {
      "metadata": {
        "id": "RTAtDcilt6CV",
        "colab_type": "code",
        "colab": {}
      },
      "cell_type": "code",
      "source": [
        "def load_cfar10_batch(cifar10_dataset_folder_path, batch_id):\n",
        "    with open(cifar10_dataset_folder_path + '/data_batch_' + str(batch_id), mode='rb') as file:\n",
        "        # note the encoding type is 'latin1'\n",
        "        batch = pickle.load(file, encoding='latin1')\n",
        "        \n",
        "    features = batch['data'].reshape((len(batch['data']), 3, 32, 32)).transpose(0, 2, 3, 1)\n",
        "    labels = batch['labels']\n",
        "        \n",
        "    return features, labels"
      ],
      "execution_count": 0,
      "outputs": []
    },
    {
      "metadata": {
        "id": "h15urae73HFl",
        "colab_type": "text"
      },
      "cell_type": "markdown",
      "source": [
        "## Explore the Data\n",
        "\n"
      ]
    },
    {
      "metadata": {
        "id": "C5VL5U5St8Fd",
        "colab_type": "code",
        "colab": {}
      },
      "cell_type": "code",
      "source": [
        "def display_stats(cifar10_dataset_folder_path, batch_id, sample_id):\n",
        "    features, labels = load_cfar10_batch(cifar10_dataset_folder_path, batch_id)\n",
        "    \n",
        "    if not (0 <= sample_id < len(features)):\n",
        "        print('{} samples in batch {}.  {} is out of range.'.format(len(features), batch_id, sample_id))\n",
        "        return None\n",
        "\n",
        "    print('\\nStats of batch #{}:'.format(batch_id))\n",
        "    print('# of Samples: {}\\n'.format(len(features)))\n",
        "    \n",
        "    label_names = load_label_names()\n",
        "    label_counts = dict(zip(*np.unique(labels, return_counts=True)))\n",
        "    for key, value in label_counts.items():\n",
        "        print('Label Counts of [{}]({}) : {}'.format(key, label_names[key].upper(), value))\n",
        "    \n",
        "    sample_image = features[sample_id]\n",
        "    sample_label = labels[sample_id]\n",
        "    \n",
        "    print('\\nExample of Image {}:'.format(sample_id))\n",
        "    print('Image - Min Value: {} Max Value: {}'.format(sample_image.min(), sample_image.max()))\n",
        "    print('Image - Shape: {}'.format(sample_image.shape))\n",
        "    print('Label - Label Id: {} Name: {}'.format(sample_label, label_names[sample_label]))\n",
        "    \n",
        "    plt.imshow(sample_image)"
      ],
      "execution_count": 0,
      "outputs": []
    },
    {
      "metadata": {
        "id": "PSJ1rAAI3O_A",
        "colab_type": "text"
      },
      "cell_type": "markdown",
      "source": [
        "## Implement Preprocess Functions\n",
        "\n"
      ]
    },
    {
      "metadata": {
        "id": "Se3GhIzKt-9R",
        "colab_type": "code",
        "colab": {}
      },
      "cell_type": "code",
      "source": [
        "def normalize(x):\n",
        "    \"\"\"\n",
        "        argument\n",
        "            - x: input image data in numpy array [32, 32, 3]\n",
        "        return\n",
        "            - normalized x \n",
        "    \"\"\"\n",
        "    min_val = np.min(x)\n",
        "    max_val = np.max(x)\n",
        "    x = (x-min_val) / (max_val-min_val)\n",
        "    return x"
      ],
      "execution_count": 0,
      "outputs": []
    },
    {
      "metadata": {
        "id": "RC-BCh3j3S19",
        "colab_type": "text"
      },
      "cell_type": "markdown",
      "source": [
        "## One-hot encode\n",
        "\n"
      ]
    },
    {
      "metadata": {
        "id": "SHjbZSC8uBXE",
        "colab_type": "code",
        "colab": {}
      },
      "cell_type": "code",
      "source": [
        "def one_hot_encode(x):\n",
        "    \"\"\"\n",
        "        argument\n",
        "            - x: a list of labels\n",
        "        return\n",
        "            - one hot encoding matrix (number of labels, number of class)\n",
        "    \"\"\"\n",
        "    encoded = np.zeros((len(x), 10))\n",
        "    \n",
        "    for idx, val in enumerate(x):\n",
        "        encoded[idx][val] = 1\n",
        "    \n",
        "    return encoded"
      ],
      "execution_count": 0,
      "outputs": []
    },
    {
      "metadata": {
        "id": "KMD8sM1nM5rc",
        "colab_type": "text"
      },
      "cell_type": "markdown",
      "source": [
        "This code is to preprocess the data. "
      ]
    },
    {
      "metadata": {
        "id": "f4QPnls4uC4l",
        "colab_type": "code",
        "colab": {}
      },
      "cell_type": "code",
      "source": [
        "def _preprocess_and_save(normalize, one_hot_encode, features, labels, filename):\n",
        "    features = normalize(features)\n",
        "    labels = one_hot_encode(labels)\n",
        "\n",
        "    pickle.dump((features, labels), open(filename, 'wb'))\n",
        "\n",
        "\n",
        "def preprocess_and_save_data(cifar10_dataset_folder_path, normalize, one_hot_encode):\n",
        "    n_batches = 5\n",
        "    valid_features = []\n",
        "    valid_labels = []\n",
        "\n",
        "    for batch_i in range(1, n_batches + 1):\n",
        "        features, labels = load_cfar10_batch(cifar10_dataset_folder_path, batch_i)\n",
        "        \n",
        "        # find index to be the point as validation data in the whole dataset of the batch (10%)\n",
        "        index_of_validation = int(len(features) * 0.1)\n",
        "\n",
        "        # preprocess the 90% of the whole dataset of the batch\n",
        "        # - normalize the features\n",
        "        # - one_hot_encode the lables\n",
        "        # - save in a new file named, \"preprocess_batch_\" + batch_number\n",
        "        # - each file for each batch\n",
        "        _preprocess_and_save(normalize, one_hot_encode,\n",
        "                             features[:-index_of_validation], labels[:-index_of_validation], \n",
        "                             'preprocess_batch_' + str(batch_i) + '.p')\n",
        "\n",
        "        # unlike the training dataset, validation dataset will be added through all batch dataset\n",
        "        # - take 10% of the whold dataset of the batch\n",
        "        # - add them into a list of\n",
        "        #   - valid_features\n",
        "        #   - valid_labels\n",
        "        valid_features.extend(features[-index_of_validation:])\n",
        "        valid_labels.extend(labels[-index_of_validation:])\n",
        "\n",
        "    # preprocess the all stacked validation dataset\n",
        "    _preprocess_and_save(normalize, one_hot_encode,\n",
        "                         np.array(valid_features), np.array(valid_labels),\n",
        "                         'preprocess_validation.p')\n",
        "\n",
        "    # load the test dataset\n",
        "    with open(cifar10_dataset_folder_path + '/test_batch', mode='rb') as file:\n",
        "        batch = pickle.load(file, encoding='latin1')\n",
        "\n",
        "    # preprocess the testing data\n",
        "    test_features = batch['data'].reshape((len(batch['data']), 3, 32, 32)).transpose(0, 2, 3, 1)\n",
        "    test_labels = batch['labels']\n",
        "\n",
        "    # Preprocess and Save all testing data\n",
        "    _preprocess_and_save(normalize, one_hot_encode,\n",
        "                         np.array(test_features), np.array(test_labels),\n",
        "                         'preprocess_training.p')"
      ],
      "execution_count": 0,
      "outputs": []
    },
    {
      "metadata": {
        "id": "6zIas1GUuEhB",
        "colab_type": "code",
        "colab": {}
      },
      "cell_type": "code",
      "source": [
        "preprocess_and_save_data(cifar10_dataset_folder_path, normalize, one_hot_encode)\n"
      ],
      "execution_count": 0,
      "outputs": []
    },
    {
      "metadata": {
        "id": "FiW5Xp0YuFaE",
        "colab_type": "code",
        "colab": {}
      },
      "cell_type": "code",
      "source": [
        "import pickle\n",
        "\n",
        "valid_features, valid_labels = pickle.load(open('preprocess_validation.p', mode='rb'))\n"
      ],
      "execution_count": 0,
      "outputs": []
    },
    {
      "metadata": {
        "id": "S7xH_JS9uMMx",
        "colab_type": "code",
        "colab": {}
      },
      "cell_type": "code",
      "source": [
        "import tensorflow as tf\n",
        "\n",
        "# Remove previous weights, bias, inputs, etc..\n",
        "tf.reset_default_graph()\n",
        "\n",
        "# Inputs\n",
        "x = tf.placeholder(tf.float32, shape=(None, 32, 32, 3), name='input_x')\n",
        "y =  tf.placeholder(tf.float32, shape=(None, 10), name='output_y')\n",
        "keep_prob = tf.placeholder(tf.float32, name='keep_prob')\n"
      ],
      "execution_count": 0,
      "outputs": []
    },
    {
      "metadata": {
        "id": "hBVpfKpS3eL5",
        "colab_type": "text"
      },
      "cell_type": "markdown",
      "source": [
        "# BUILD NETWORK"
      ]
    },
    {
      "metadata": {
        "id": "ZZRMnb703mtZ",
        "colab_type": "text"
      },
      "cell_type": "markdown",
      "source": [
        "## Create Convolutional Model\n",
        "\n",
        "The entire model consists of 14 layers in total. In addition to layers below lists what techniques are applied to build the model.\n",
        "\n",
        "1. Convolution with 64 different filters in size of (3x3)\n",
        "2. Max Pooling by 2\n",
        "  - ReLU activation function \n",
        "  - Batch Normalization\n",
        "3. Convolution with 128 different filters in size of (3x3)\n",
        "4. Max Pooling by 2\n",
        "  - ReLU activation function \n",
        "  - Batch Normalization\n",
        "5. Convolution with 256 different filters in size of (3x3)\n",
        "6. Max Pooling by 2\n",
        "  - ReLU activation function \n",
        "  - Batch Normalization\n",
        "7. Convolution with 512 different filters in size of (3x3)\n",
        "8. Max Pooling by 2\n",
        "  - ReLU activation function \n",
        "  - Batch Normalization\n",
        "9. Flattening the 3-D output of the last convolutional operations.\n",
        "10. Fully Connected Layer with 128 units\n",
        "  - Dropout \n",
        "  - Batch Normalization\n",
        "11. Fully Connected Layer with 256 units\n",
        "  - Dropout \n",
        "  - Batch Normalization\n",
        "12. Fully Connected Layer with 512 units\n",
        "  - Dropout \n",
        "  - Batch Normalization\n",
        "13. Fully Connected Layer with 1024 units\n",
        "  - Dropout \n",
        "  - Batch Normalization\n",
        "14. Fully Connected Layer with 10 units (number of image classes)\n",
        "\n",
        "the image below decribes how the conceptual convolving operation differs from the tensorflow implementation when you use [Channel x Width x Height] tensor format. \n",
        "\n"
      ]
    },
    {
      "metadata": {
        "id": "Wclm-TM6uOa1",
        "colab_type": "code",
        "colab": {}
      },
      "cell_type": "code",
      "source": [
        "import tensorflow as tf\n",
        "\n",
        "def conv_net(x, keep_prob):\n",
        "    conv1_filter = tf.Variable(tf.truncated_normal(shape=[3, 3, 3, 64], mean=0, stddev=0.08))\n",
        "    conv2_filter = tf.Variable(tf.truncated_normal(shape=[3, 3, 64, 128], mean=0, stddev=0.08))\n",
        "    conv3_filter = tf.Variable(tf.truncated_normal(shape=[5, 5, 128, 256], mean=0, stddev=0.08))\n",
        "    conv4_filter = tf.Variable(tf.truncated_normal(shape=[5, 5, 256, 512], mean=0, stddev=0.08))\n",
        "\n",
        "    # 1, 2\n",
        "    conv1 = tf.nn.conv2d(x, conv1_filter, strides=[1,1,1,1], padding='SAME')\n",
        "    conv1 = tf.nn.relu(conv1)\n",
        "    conv1_pool = tf.nn.max_pool(conv1, ksize=[1,2,2,1], strides=[1,2,2,1], padding='SAME')\n",
        "    conv1_bn = tf.layers.batch_normalization(conv1_pool)\n",
        "\n",
        "    # 3, 4\n",
        "    conv2 = tf.nn.conv2d(conv1_bn, conv2_filter, strides=[1,1,1,1], padding='SAME')\n",
        "    conv2 = tf.nn.relu(conv2)\n",
        "    conv2_pool = tf.nn.max_pool(conv2, ksize=[1,2,2,1], strides=[1,2,2,1], padding='SAME')    \n",
        "    conv2_bn = tf.layers.batch_normalization(conv2_pool)\n",
        "  \n",
        "    # 5, 6\n",
        "    conv3 = tf.nn.conv2d(conv2_bn, conv3_filter, strides=[1,1,1,1], padding='SAME')\n",
        "    conv3 = tf.nn.relu(conv3)\n",
        "    conv3_pool = tf.nn.max_pool(conv3, ksize=[1,2,2,1], strides=[1,2,2,1], padding='SAME')  \n",
        "    conv3_bn = tf.layers.batch_normalization(conv3_pool)\n",
        "    \n",
        "    # 7, 8\n",
        "    conv4 = tf.nn.conv2d(conv3_bn, conv4_filter, strides=[1,1,1,1], padding='SAME')\n",
        "    conv4 = tf.nn.relu(conv4)\n",
        "    conv4_pool = tf.nn.max_pool(conv4, ksize=[1,2,2,1], strides=[1,2,2,1], padding='SAME')\n",
        "    conv4_bn = tf.layers.batch_normalization(conv4_pool)\n",
        "    \n",
        "    # 9\n",
        "    flat = tf.contrib.layers.flatten(conv4_bn)  \n",
        "\n",
        "    # 10\n",
        "    full1 = tf.contrib.layers.fully_connected(inputs=flat, num_outputs=128, activation_fn=tf.nn.relu)\n",
        "    full1 = tf.nn.dropout(full1, keep_prob)\n",
        "    full1 = tf.layers.batch_normalization(full1)\n",
        "    \n",
        "    # 11\n",
        "    full2 = tf.contrib.layers.fully_connected(inputs=full1, num_outputs=256, activation_fn=tf.nn.relu)\n",
        "    full2 = tf.nn.dropout(full2, keep_prob)\n",
        "    full2 = tf.layers.batch_normalization(full2)\n",
        "    \n",
        "    # 12\n",
        "    full3 = tf.contrib.layers.fully_connected(inputs=full2, num_outputs=512, activation_fn=tf.nn.relu)\n",
        "    full3 = tf.nn.dropout(full3, keep_prob)\n",
        "    full3 = tf.layers.batch_normalization(full3)    \n",
        "    \n",
        "    # 13\n",
        "    full4 = tf.contrib.layers.fully_connected(inputs=full3, num_outputs=1024, activation_fn=tf.nn.relu)\n",
        "    full4 = tf.nn.dropout(full4, keep_prob)\n",
        "    full4 = tf.layers.batch_normalization(full4)        \n",
        "    \n",
        "    # 14\n",
        "    out = tf.contrib.layers.fully_connected(inputs=full3, num_outputs=10, activation_fn=None)\n",
        "    return out\n"
      ],
      "execution_count": 0,
      "outputs": []
    },
    {
      "metadata": {
        "id": "pQY_KuCh3snv",
        "colab_type": "text"
      },
      "cell_type": "markdown",
      "source": [
        "## Hyperparameters\n",
        "\n",
        "* `epochs`: number of iterations until the network stops learning or start overfitting\n",
        "* `batch_size`: highest number that your machine has memory for.  Most people set them to common sizes of memory:\n",
        "* `keep_probability`: probability of keeping a node using dropout\n",
        "* `learning_rate`: number how fast the model learns"
      ]
    },
    {
      "metadata": {
        "id": "EEdPHUbPuQsA",
        "colab_type": "code",
        "colab": {}
      },
      "cell_type": "code",
      "source": [
        "epochs = 50\n",
        "batch_size = 128\n",
        "keep_probability = 0.7\n",
        "learning_rate = 0.001\n"
      ],
      "execution_count": 0,
      "outputs": []
    },
    {
      "metadata": {
        "id": "-7QHyk4g3vUu",
        "colab_type": "text"
      },
      "cell_type": "markdown",
      "source": [
        "## Cost Function & Optimizer\n",
        "\n"
      ]
    },
    {
      "metadata": {
        "id": "L-1_tfzGuR4n",
        "colab_type": "code",
        "outputId": "5642c25b-a943-4910-eb41-d99802ab0213",
        "colab": {
          "base_uri": "https://localhost:8080/",
          "height": 153
        }
      },
      "cell_type": "code",
      "source": [
        "logits = conv_net(x, keep_prob)\n",
        "model = tf.identity(logits, name='logits') # Name logits Tensor, so that can be loaded from disk after training\n",
        "\n",
        "# Loss and Optimizer\n",
        "cost = tf.reduce_mean(tf.nn.softmax_cross_entropy_with_logits(logits=logits, labels=y))\n",
        "optimizer = tf.train.AdamOptimizer(learning_rate=learning_rate).minimize(cost)\n",
        "\n",
        "# Accuracy\n",
        "correct_pred = tf.equal(tf.argmax(logits, 1), tf.argmax(y, 1))\n",
        "accuracy = tf.reduce_mean(tf.cast(correct_pred, tf.float32), name='accuracy')\n"
      ],
      "execution_count": 0,
      "outputs": [
        {
          "output_type": "stream",
          "text": [
            "WARNING:tensorflow:From <ipython-input-15-bc29ffa8bb57>:5: softmax_cross_entropy_with_logits (from tensorflow.python.ops.nn_ops) is deprecated and will be removed in a future version.\n",
            "Instructions for updating:\n",
            "\n",
            "Future major versions of TensorFlow will allow gradients to flow\n",
            "into the labels input on backprop by default.\n",
            "\n",
            "See `tf.nn.softmax_cross_entropy_with_logits_v2`.\n",
            "\n"
          ],
          "name": "stdout"
        }
      ]
    },
    {
      "metadata": {
        "id": "DbGFpVGe3yBz",
        "colab_type": "text"
      },
      "cell_type": "markdown",
      "source": [
        "## Train the Neural Network\n",
        "\n"
      ]
    },
    {
      "metadata": {
        "id": "ym5xVxMQ-OUt",
        "colab_type": "text"
      },
      "cell_type": "markdown",
      "source": [
        "### Single Optimization\n"
      ]
    },
    {
      "metadata": {
        "id": "7RHezxkYuTJP",
        "colab_type": "code",
        "colab": {}
      },
      "cell_type": "code",
      "source": [
        "def train_neural_network(session, optimizer, keep_probability, feature_batch, label_batch):\n",
        "    session.run(optimizer, \n",
        "                feed_dict={\n",
        "                    x: feature_batch,\n",
        "                    y: label_batch,\n",
        "                    keep_prob: keep_probability\n",
        "                })\n"
      ],
      "execution_count": 0,
      "outputs": []
    },
    {
      "metadata": {
        "id": "Ogk94Aw330ij",
        "colab_type": "text"
      },
      "cell_type": "markdown",
      "source": [
        "## Show Stats"
      ]
    },
    {
      "metadata": {
        "id": "lOC-biuAuVTu",
        "colab_type": "code",
        "colab": {}
      },
      "cell_type": "code",
      "source": [
        "def print_stats(session, feature_batch, label_batch, cost, accuracy):\n",
        "    loss = sess.run(cost, \n",
        "                    feed_dict={\n",
        "                        x: feature_batch,\n",
        "                        y: label_batch,\n",
        "                        keep_prob: 1.\n",
        "                    })\n",
        "    valid_acc = sess.run(accuracy, \n",
        "                         feed_dict={\n",
        "                             x: valid_features,\n",
        "                             y: valid_labels,\n",
        "                             keep_prob: 1.\n",
        "                         })\n",
        "    \n",
        "    print('Loss: {:>10.4f} Validation Accuracy: {:.6f}'.format(loss, valid_acc))\n"
      ],
      "execution_count": 0,
      "outputs": []
    },
    {
      "metadata": {
        "id": "Nc9aux-K33Mj",
        "colab_type": "text"
      },
      "cell_type": "markdown",
      "source": [
        "### Fully Train the Model"
      ]
    },
    {
      "metadata": {
        "id": "m6FeB8gmuWlt",
        "colab_type": "code",
        "colab": {}
      },
      "cell_type": "code",
      "source": [
        "def batch_features_labels(features, labels, batch_size):\n",
        "    \"\"\"\n",
        "    Split features and labels into batches\n",
        "    \"\"\"\n",
        "    for start in range(0, len(features), batch_size):\n",
        "        end = min(start + batch_size, len(features))\n",
        "        yield features[start:end], labels[start:end]\n",
        "\n",
        "def load_preprocess_training_batch(batch_id, batch_size):\n",
        "    \"\"\"\n",
        "    Load the Preprocessed Training data and return them in batches of <batch_size> or less\n",
        "    \"\"\"\n",
        "    filename = 'preprocess_batch_' + str(batch_id) + '.p'\n",
        "    features, labels = pickle.load(open(filename, mode='rb'))\n",
        "\n",
        "    # Return the training data in batches of size <batch_size> or less\n",
        "    return batch_features_labels(features, labels, batch_size)\n"
      ],
      "execution_count": 0,
      "outputs": []
    },
    {
      "metadata": {
        "id": "VAKZNh58-R2t",
        "colab_type": "text"
      },
      "cell_type": "markdown",
      "source": [
        "The following print the output of training process:\n",
        "\n",
        "- With tensorflow session, we print the following:\n",
        "- For each epoch, we train number of batches from 1 to 5;\n",
        "- Print Loss and validation Accuracy"
      ]
    },
    {
      "metadata": {
        "id": "XFB7illuuYPi",
        "colab_type": "code",
        "outputId": "6a07b474-af51-4855-b734-669a6d6fa750",
        "colab": {
          "base_uri": "https://localhost:8080/",
          "height": 4284
        }
      },
      "cell_type": "code",
      "source": [
        "save_model_path = './image_classification'\n",
        "\n",
        "print('Training...')\n",
        "with tf.Session() as sess:\n",
        "    # Initializing the variables\n",
        "    sess.run(tf.global_variables_initializer())\n",
        "    \n",
        "    # Training cycle\n",
        "    for epoch in range(epochs):\n",
        "        # Loop over all batches\n",
        "        n_batches = 5\n",
        "        for batch_i in range(1, n_batches + 1):\n",
        "            for batch_features, batch_labels in load_preprocess_training_batch(batch_i, batch_size):\n",
        "                train_neural_network(sess, optimizer, keep_probability, batch_features, batch_labels)\n",
        "                \n",
        "            print('Epoch {:>2}, CIFAR-10 Batch {}:  '.format(epoch + 1, batch_i), end='')\n",
        "            print_stats(sess, batch_features, batch_labels, cost, accuracy)\n",
        "            \n",
        "    # Save Model\n",
        "    saver = tf.train.Saver()\n",
        "    save_path = saver.save(sess, save_model_path)\n"
      ],
      "execution_count": 0,
      "outputs": [
        {
          "output_type": "stream",
          "text": [
            "Training...\n",
            "Epoch  1, CIFAR-10 Batch 1:  Loss:     2.0473 Validation Accuracy: 0.282800\n",
            "Epoch  1, CIFAR-10 Batch 2:  Loss:     1.6504 Validation Accuracy: 0.359600\n",
            "Epoch  1, CIFAR-10 Batch 3:  Loss:     1.2537 Validation Accuracy: 0.441600\n",
            "Epoch  1, CIFAR-10 Batch 4:  Loss:     1.3488 Validation Accuracy: 0.484800\n",
            "Epoch  1, CIFAR-10 Batch 5:  Loss:     1.2299 Validation Accuracy: 0.542600\n",
            "Epoch  2, CIFAR-10 Batch 1:  Loss:     1.0840 Validation Accuracy: 0.543000\n",
            "Epoch  2, CIFAR-10 Batch 2:  Loss:     0.8338 Validation Accuracy: 0.587000\n",
            "Epoch  2, CIFAR-10 Batch 3:  Loss:     0.8201 Validation Accuracy: 0.591000\n",
            "Epoch  2, CIFAR-10 Batch 4:  Loss:     0.8350 Validation Accuracy: 0.627000\n",
            "Epoch  2, CIFAR-10 Batch 5:  Loss:     0.6567 Validation Accuracy: 0.672000\n",
            "Epoch  3, CIFAR-10 Batch 1:  Loss:     0.6272 Validation Accuracy: 0.649600\n",
            "Epoch  3, CIFAR-10 Batch 2:  Loss:     0.4607 Validation Accuracy: 0.690600\n",
            "Epoch  3, CIFAR-10 Batch 3:  Loss:     0.3596 Validation Accuracy: 0.672200\n",
            "Epoch  3, CIFAR-10 Batch 4:  Loss:     0.4384 Validation Accuracy: 0.710400\n",
            "Epoch  3, CIFAR-10 Batch 5:  Loss:     0.4476 Validation Accuracy: 0.702400\n",
            "Epoch  4, CIFAR-10 Batch 1:  Loss:     0.3765 Validation Accuracy: 0.701600\n",
            "Epoch  4, CIFAR-10 Batch 2:  Loss:     0.3094 Validation Accuracy: 0.716000\n",
            "Epoch  4, CIFAR-10 Batch 3:  Loss:     0.1799 Validation Accuracy: 0.704200\n",
            "Epoch  4, CIFAR-10 Batch 4:  Loss:     0.1414 Validation Accuracy: 0.729800\n",
            "Epoch  4, CIFAR-10 Batch 5:  Loss:     0.2321 Validation Accuracy: 0.725000\n",
            "Epoch  5, CIFAR-10 Batch 1:  Loss:     0.2070 Validation Accuracy: 0.723800\n",
            "Epoch  5, CIFAR-10 Batch 2:  Loss:     0.1852 Validation Accuracy: 0.742400\n",
            "Epoch  5, CIFAR-10 Batch 3:  Loss:     0.1114 Validation Accuracy: 0.712200\n",
            "Epoch  5, CIFAR-10 Batch 4:  Loss:     0.0655 Validation Accuracy: 0.726200\n",
            "Epoch  5, CIFAR-10 Batch 5:  Loss:     0.0941 Validation Accuracy: 0.734200\n",
            "Epoch  6, CIFAR-10 Batch 1:  Loss:     0.1347 Validation Accuracy: 0.714600\n",
            "Epoch  6, CIFAR-10 Batch 2:  Loss:     0.0712 Validation Accuracy: 0.731200\n",
            "Epoch  6, CIFAR-10 Batch 3:  Loss:     0.0541 Validation Accuracy: 0.742600\n",
            "Epoch  6, CIFAR-10 Batch 4:  Loss:     0.0716 Validation Accuracy: 0.719400\n",
            "Epoch  6, CIFAR-10 Batch 5:  Loss:     0.0456 Validation Accuracy: 0.710400\n",
            "Epoch  7, CIFAR-10 Batch 1:  Loss:     0.0531 Validation Accuracy: 0.743600\n",
            "Epoch  7, CIFAR-10 Batch 2:  Loss:     0.0368 Validation Accuracy: 0.726000\n",
            "Epoch  7, CIFAR-10 Batch 3:  Loss:     0.0096 Validation Accuracy: 0.742600\n",
            "Epoch  7, CIFAR-10 Batch 4:  Loss:     0.0428 Validation Accuracy: 0.736400\n",
            "Epoch  7, CIFAR-10 Batch 5:  Loss:     0.0175 Validation Accuracy: 0.752000\n",
            "Epoch  8, CIFAR-10 Batch 1:  Loss:     0.0188 Validation Accuracy: 0.750000\n",
            "Epoch  8, CIFAR-10 Batch 2:  Loss:     0.0307 Validation Accuracy: 0.719600\n",
            "Epoch  8, CIFAR-10 Batch 3:  Loss:     0.0129 Validation Accuracy: 0.739200\n",
            "Epoch  8, CIFAR-10 Batch 4:  Loss:     0.0227 Validation Accuracy: 0.727200\n",
            "Epoch  8, CIFAR-10 Batch 5:  Loss:     0.0152 Validation Accuracy: 0.740200\n",
            "Epoch  9, CIFAR-10 Batch 1:  Loss:     0.0088 Validation Accuracy: 0.745600\n",
            "Epoch  9, CIFAR-10 Batch 2:  Loss:     0.0049 Validation Accuracy: 0.722200\n",
            "Epoch  9, CIFAR-10 Batch 3:  Loss:     0.0077 Validation Accuracy: 0.739000\n",
            "Epoch  9, CIFAR-10 Batch 4:  Loss:     0.0168 Validation Accuracy: 0.753400\n",
            "Epoch  9, CIFAR-10 Batch 5:  Loss:     0.0095 Validation Accuracy: 0.743000\n",
            "Epoch 10, CIFAR-10 Batch 1:  Loss:     0.0114 Validation Accuracy: 0.749000\n",
            "Epoch 10, CIFAR-10 Batch 2:  Loss:     0.0089 Validation Accuracy: 0.753800\n",
            "Epoch 10, CIFAR-10 Batch 3:  Loss:     0.0089 Validation Accuracy: 0.742200\n",
            "Epoch 10, CIFAR-10 Batch 4:  Loss:     0.0143 Validation Accuracy: 0.734800\n",
            "Epoch 10, CIFAR-10 Batch 5:  Loss:     0.0061 Validation Accuracy: 0.745000\n",
            "Epoch 11, CIFAR-10 Batch 1:  Loss:     0.0082 Validation Accuracy: 0.738200\n",
            "Epoch 11, CIFAR-10 Batch 2:  Loss:     0.0046 Validation Accuracy: 0.753600\n",
            "Epoch 11, CIFAR-10 Batch 3:  Loss:     0.0016 Validation Accuracy: 0.744000\n",
            "Epoch 11, CIFAR-10 Batch 4:  Loss:     0.0058 Validation Accuracy: 0.739600\n",
            "Epoch 11, CIFAR-10 Batch 5:  Loss:     0.0039 Validation Accuracy: 0.761200\n",
            "Epoch 12, CIFAR-10 Batch 1:  Loss:     0.0036 Validation Accuracy: 0.759800\n",
            "Epoch 12, CIFAR-10 Batch 2:  Loss:     0.0030 Validation Accuracy: 0.757600\n",
            "Epoch 12, CIFAR-10 Batch 3:  Loss:     0.0041 Validation Accuracy: 0.753200\n",
            "Epoch 12, CIFAR-10 Batch 4:  Loss:     0.0070 Validation Accuracy: 0.745600\n",
            "Epoch 12, CIFAR-10 Batch 5:  Loss:     0.0039 Validation Accuracy: 0.744000\n",
            "Epoch 13, CIFAR-10 Batch 1:  Loss:     0.0022 Validation Accuracy: 0.736200\n",
            "Epoch 13, CIFAR-10 Batch 2:  Loss:     0.0032 Validation Accuracy: 0.756600\n",
            "Epoch 13, CIFAR-10 Batch 3:  Loss:     0.0020 Validation Accuracy: 0.761400\n",
            "Epoch 13, CIFAR-10 Batch 4:  Loss:     0.0015 Validation Accuracy: 0.737400\n",
            "Epoch 13, CIFAR-10 Batch 5:  Loss:     0.0067 Validation Accuracy: 0.750600\n",
            "Epoch 14, CIFAR-10 Batch 1:  Loss:     0.0034 Validation Accuracy: 0.750600\n",
            "Epoch 14, CIFAR-10 Batch 2:  Loss:     0.0015 Validation Accuracy: 0.737400\n",
            "Epoch 14, CIFAR-10 Batch 3:  Loss:     0.0028 Validation Accuracy: 0.751600\n",
            "Epoch 14, CIFAR-10 Batch 4:  Loss:     0.0027 Validation Accuracy: 0.749000\n",
            "Epoch 14, CIFAR-10 Batch 5:  Loss:     0.0021 Validation Accuracy: 0.752400\n",
            "Epoch 15, CIFAR-10 Batch 1:  Loss:     0.0013 Validation Accuracy: 0.748200\n",
            "Epoch 15, CIFAR-10 Batch 2:  Loss:     0.0038 Validation Accuracy: 0.734800\n",
            "Epoch 15, CIFAR-10 Batch 3:  Loss:     0.0015 Validation Accuracy: 0.750600\n",
            "Epoch 15, CIFAR-10 Batch 4:  Loss:     0.0020 Validation Accuracy: 0.754800\n",
            "Epoch 15, CIFAR-10 Batch 5:  Loss:     0.0032 Validation Accuracy: 0.748800\n",
            "Epoch 16, CIFAR-10 Batch 1:  Loss:     0.0023 Validation Accuracy: 0.742400\n",
            "Epoch 16, CIFAR-10 Batch 2:  Loss:     0.0007 Validation Accuracy: 0.736400\n",
            "Epoch 16, CIFAR-10 Batch 3:  Loss:     0.0015 Validation Accuracy: 0.752200\n",
            "Epoch 16, CIFAR-10 Batch 4:  Loss:     0.0015 Validation Accuracy: 0.751600\n",
            "Epoch 16, CIFAR-10 Batch 5:  Loss:     0.0012 Validation Accuracy: 0.742400\n",
            "Epoch 17, CIFAR-10 Batch 1:  Loss:     0.0018 Validation Accuracy: 0.745800\n",
            "Epoch 17, CIFAR-10 Batch 2:  Loss:     0.0010 Validation Accuracy: 0.751400\n",
            "Epoch 17, CIFAR-10 Batch 3:  Loss:     0.0003 Validation Accuracy: 0.746200\n",
            "Epoch 17, CIFAR-10 Batch 4:  Loss:     0.0049 Validation Accuracy: 0.749400\n",
            "Epoch 17, CIFAR-10 Batch 5:  Loss:     0.0007 Validation Accuracy: 0.753600\n",
            "Epoch 18, CIFAR-10 Batch 1:  Loss:     0.0019 Validation Accuracy: 0.744000\n",
            "Epoch 18, CIFAR-10 Batch 2:  Loss:     0.0017 Validation Accuracy: 0.738600\n",
            "Epoch 18, CIFAR-10 Batch 3:  Loss:     0.0059 Validation Accuracy: 0.743600\n",
            "Epoch 18, CIFAR-10 Batch 4:  Loss:     0.0014 Validation Accuracy: 0.739400\n",
            "Epoch 18, CIFAR-10 Batch 5:  Loss:     0.0013 Validation Accuracy: 0.751600\n",
            "Epoch 19, CIFAR-10 Batch 1:  Loss:     0.0002 Validation Accuracy: 0.752000\n",
            "Epoch 19, CIFAR-10 Batch 2:  Loss:     0.0003 Validation Accuracy: 0.752600\n",
            "Epoch 19, CIFAR-10 Batch 3:  Loss:     0.0010 Validation Accuracy: 0.752400\n",
            "Epoch 19, CIFAR-10 Batch 4:  Loss:     0.0012 Validation Accuracy: 0.744200\n",
            "Epoch 19, CIFAR-10 Batch 5:  Loss:     0.0049 Validation Accuracy: 0.748200\n",
            "Epoch 20, CIFAR-10 Batch 1:  Loss:     0.0024 Validation Accuracy: 0.735200\n",
            "Epoch 20, CIFAR-10 Batch 2:  Loss:     0.0035 Validation Accuracy: 0.742600\n",
            "Epoch 20, CIFAR-10 Batch 3:  Loss:     0.0010 Validation Accuracy: 0.754000\n",
            "Epoch 20, CIFAR-10 Batch 4:  Loss:     0.0042 Validation Accuracy: 0.747800\n",
            "Epoch 20, CIFAR-10 Batch 5:  Loss:     0.0010 Validation Accuracy: 0.743800\n",
            "Epoch 21, CIFAR-10 Batch 1:  Loss:     0.0058 Validation Accuracy: 0.752400\n",
            "Epoch 21, CIFAR-10 Batch 2:  Loss:     0.0018 Validation Accuracy: 0.754600\n",
            "Epoch 21, CIFAR-10 Batch 3:  Loss:     0.0006 Validation Accuracy: 0.753400\n",
            "Epoch 21, CIFAR-10 Batch 4:  Loss:     0.0078 Validation Accuracy: 0.755600\n",
            "Epoch 21, CIFAR-10 Batch 5:  Loss:     0.0015 Validation Accuracy: 0.757600\n",
            "Epoch 22, CIFAR-10 Batch 1:  Loss:     0.0029 Validation Accuracy: 0.761400\n",
            "Epoch 22, CIFAR-10 Batch 2:  Loss:     0.0006 Validation Accuracy: 0.740800\n",
            "Epoch 22, CIFAR-10 Batch 3:  Loss:     0.0079 Validation Accuracy: 0.750600\n",
            "Epoch 22, CIFAR-10 Batch 4:  Loss:     0.0010 Validation Accuracy: 0.761600\n",
            "Epoch 22, CIFAR-10 Batch 5:  Loss:     0.0028 Validation Accuracy: 0.726400\n",
            "Epoch 23, CIFAR-10 Batch 1:  Loss:     0.0033 Validation Accuracy: 0.763200\n",
            "Epoch 23, CIFAR-10 Batch 2:  Loss:     0.0008 Validation Accuracy: 0.728400\n",
            "Epoch 23, CIFAR-10 Batch 3:  Loss:     0.0002 Validation Accuracy: 0.764000\n",
            "Epoch 23, CIFAR-10 Batch 4:  Loss:     0.0008 Validation Accuracy: 0.745400\n",
            "Epoch 23, CIFAR-10 Batch 5:  Loss:     0.0005 Validation Accuracy: 0.749000\n",
            "Epoch 24, CIFAR-10 Batch 1:  Loss:     0.0009 Validation Accuracy: 0.752600\n",
            "Epoch 24, CIFAR-10 Batch 2:  Loss:     0.0018 Validation Accuracy: 0.745000\n",
            "Epoch 24, CIFAR-10 Batch 3:  Loss:     0.0007 Validation Accuracy: 0.755800\n",
            "Epoch 24, CIFAR-10 Batch 4:  Loss:     0.0016 Validation Accuracy: 0.751400\n",
            "Epoch 24, CIFAR-10 Batch 5:  Loss:     0.0017 Validation Accuracy: 0.747200\n",
            "Epoch 25, CIFAR-10 Batch 1:  Loss:     0.0003 Validation Accuracy: 0.754000\n",
            "Epoch 25, CIFAR-10 Batch 2:  Loss:     0.0024 Validation Accuracy: 0.756400\n",
            "Epoch 25, CIFAR-10 Batch 3:  Loss:     0.0014 Validation Accuracy: 0.749000\n",
            "Epoch 25, CIFAR-10 Batch 4:  Loss:     0.0004 Validation Accuracy: 0.744800\n",
            "Epoch 25, CIFAR-10 Batch 5:  Loss:     0.0004 Validation Accuracy: 0.743000\n",
            "Epoch 26, CIFAR-10 Batch 1:  Loss:     0.0038 Validation Accuracy: 0.745400\n",
            "Epoch 26, CIFAR-10 Batch 2:  Loss:     0.0152 Validation Accuracy: 0.757800\n",
            "Epoch 26, CIFAR-10 Batch 3:  Loss:     0.0006 Validation Accuracy: 0.755400\n",
            "Epoch 26, CIFAR-10 Batch 4:  Loss:     0.0024 Validation Accuracy: 0.736000\n",
            "Epoch 26, CIFAR-10 Batch 5:  Loss:     0.0010 Validation Accuracy: 0.755600\n",
            "Epoch 27, CIFAR-10 Batch 1:  Loss:     0.0007 Validation Accuracy: 0.750800\n",
            "Epoch 27, CIFAR-10 Batch 2:  Loss:     0.0019 Validation Accuracy: 0.739600\n",
            "Epoch 27, CIFAR-10 Batch 3:  Loss:     0.0032 Validation Accuracy: 0.756200\n",
            "Epoch 27, CIFAR-10 Batch 4:  Loss:     0.0012 Validation Accuracy: 0.745800\n",
            "Epoch 27, CIFAR-10 Batch 5:  Loss:     0.0054 Validation Accuracy: 0.748200\n",
            "Epoch 28, CIFAR-10 Batch 1:  Loss:     0.0047 Validation Accuracy: 0.751000\n",
            "Epoch 28, CIFAR-10 Batch 2:  Loss:     0.0004 Validation Accuracy: 0.751600\n",
            "Epoch 28, CIFAR-10 Batch 3:  Loss:     0.0010 Validation Accuracy: 0.753800\n",
            "Epoch 28, CIFAR-10 Batch 4:  Loss:     0.0020 Validation Accuracy: 0.763200\n",
            "Epoch 28, CIFAR-10 Batch 5:  Loss:     0.0013 Validation Accuracy: 0.751400\n",
            "Epoch 29, CIFAR-10 Batch 1:  Loss:     0.0004 Validation Accuracy: 0.750200\n",
            "Epoch 29, CIFAR-10 Batch 2:  Loss:     0.0029 Validation Accuracy: 0.744400\n",
            "Epoch 29, CIFAR-10 Batch 3:  Loss:     0.0002 Validation Accuracy: 0.753400\n",
            "Epoch 29, CIFAR-10 Batch 4:  Loss:     0.0046 Validation Accuracy: 0.758600\n",
            "Epoch 29, CIFAR-10 Batch 5:  Loss:     0.0019 Validation Accuracy: 0.755200\n",
            "Epoch 30, CIFAR-10 Batch 1:  Loss:     0.0008 Validation Accuracy: 0.751800\n",
            "Epoch 30, CIFAR-10 Batch 2:  Loss:     0.0010 Validation Accuracy: 0.756400\n",
            "Epoch 30, CIFAR-10 Batch 3:  Loss:     0.0016 Validation Accuracy: 0.757200\n",
            "Epoch 30, CIFAR-10 Batch 4:  Loss:     0.0017 Validation Accuracy: 0.768200\n",
            "Epoch 30, CIFAR-10 Batch 5:  Loss:     0.0033 Validation Accuracy: 0.751600\n",
            "Epoch 31, CIFAR-10 Batch 1:  Loss:     0.0001 Validation Accuracy: 0.754200\n",
            "Epoch 31, CIFAR-10 Batch 2:  Loss:     0.0004 Validation Accuracy: 0.759600\n",
            "Epoch 31, CIFAR-10 Batch 3:  Loss:     0.0054 Validation Accuracy: 0.736600\n",
            "Epoch 31, CIFAR-10 Batch 4:  Loss:     0.0001 Validation Accuracy: 0.760000\n",
            "Epoch 31, CIFAR-10 Batch 5:  Loss:     0.0008 Validation Accuracy: 0.763600\n",
            "Epoch 32, CIFAR-10 Batch 1:  Loss:     0.0004 Validation Accuracy: 0.745000\n",
            "Epoch 32, CIFAR-10 Batch 2:  Loss:     0.0019 Validation Accuracy: 0.758400\n",
            "Epoch 32, CIFAR-10 Batch 3:  Loss:     0.0029 Validation Accuracy: 0.764000\n",
            "Epoch 32, CIFAR-10 Batch 4:  Loss:     0.0020 Validation Accuracy: 0.756400\n",
            "Epoch 32, CIFAR-10 Batch 5:  Loss:     0.0006 Validation Accuracy: 0.751000\n",
            "Epoch 33, CIFAR-10 Batch 1:  Loss:     0.0006 Validation Accuracy: 0.751800\n",
            "Epoch 33, CIFAR-10 Batch 2:  Loss:     0.0136 Validation Accuracy: 0.758400\n",
            "Epoch 33, CIFAR-10 Batch 3:  Loss:     0.0009 Validation Accuracy: 0.759000\n",
            "Epoch 33, CIFAR-10 Batch 4:  Loss:     0.0024 Validation Accuracy: 0.751800\n",
            "Epoch 33, CIFAR-10 Batch 5:  Loss:     0.0003 Validation Accuracy: 0.757600\n",
            "Epoch 34, CIFAR-10 Batch 1:  Loss:     0.0004 Validation Accuracy: 0.757000\n",
            "Epoch 34, CIFAR-10 Batch 2:  Loss:     0.0008 Validation Accuracy: 0.755800\n",
            "Epoch 34, CIFAR-10 Batch 3:  Loss:     0.0023 Validation Accuracy: 0.761000\n",
            "Epoch 34, CIFAR-10 Batch 4:  Loss:     0.0009 Validation Accuracy: 0.749400\n",
            "Epoch 34, CIFAR-10 Batch 5:  Loss:     0.0020 Validation Accuracy: 0.757000\n",
            "Epoch 35, CIFAR-10 Batch 1:  Loss:     0.0004 Validation Accuracy: 0.754400\n",
            "Epoch 35, CIFAR-10 Batch 2:  Loss:     0.0024 Validation Accuracy: 0.769800\n",
            "Epoch 35, CIFAR-10 Batch 3:  Loss:     0.0010 Validation Accuracy: 0.756400\n",
            "Epoch 35, CIFAR-10 Batch 4:  Loss:     0.0033 Validation Accuracy: 0.757000\n",
            "Epoch 35, CIFAR-10 Batch 5:  Loss:     0.0014 Validation Accuracy: 0.756000\n",
            "Epoch 36, CIFAR-10 Batch 1:  Loss:     0.0002 Validation Accuracy: 0.741000\n",
            "Epoch 36, CIFAR-10 Batch 2:  Loss:     0.0004 Validation Accuracy: 0.766000\n",
            "Epoch 36, CIFAR-10 Batch 3:  Loss:     0.0004 Validation Accuracy: 0.761600\n",
            "Epoch 36, CIFAR-10 Batch 4:  Loss:     0.0017 Validation Accuracy: 0.752800\n",
            "Epoch 36, CIFAR-10 Batch 5:  Loss:     0.0004 Validation Accuracy: 0.753200\n",
            "Epoch 37, CIFAR-10 Batch 1:  Loss:     0.0004 Validation Accuracy: 0.753400\n",
            "Epoch 37, CIFAR-10 Batch 2:  Loss:     0.0083 Validation Accuracy: 0.756200\n",
            "Epoch 37, CIFAR-10 Batch 3:  Loss:     0.0005 Validation Accuracy: 0.751800\n",
            "Epoch 37, CIFAR-10 Batch 4:  Loss:     0.0021 Validation Accuracy: 0.762600\n",
            "Epoch 37, CIFAR-10 Batch 5:  Loss:     0.0009 Validation Accuracy: 0.756400\n",
            "Epoch 38, CIFAR-10 Batch 1:  Loss:     0.0001 Validation Accuracy: 0.763800\n",
            "Epoch 38, CIFAR-10 Batch 2:  Loss:     0.0007 Validation Accuracy: 0.755600\n",
            "Epoch 38, CIFAR-10 Batch 3:  Loss:     0.0025 Validation Accuracy: 0.761600\n",
            "Epoch 38, CIFAR-10 Batch 4:  Loss:     0.0005 Validation Accuracy: 0.770200\n",
            "Epoch 38, CIFAR-10 Batch 5:  Loss:     0.0012 Validation Accuracy: 0.750800\n",
            "Epoch 39, CIFAR-10 Batch 1:  Loss:     0.0000 Validation Accuracy: 0.775000\n",
            "Epoch 39, CIFAR-10 Batch 2:  Loss:     0.0000 Validation Accuracy: 0.772600\n",
            "Epoch 39, CIFAR-10 Batch 3:  Loss:     0.0020 Validation Accuracy: 0.761200\n",
            "Epoch 39, CIFAR-10 Batch 4:  Loss:     0.0008 Validation Accuracy: 0.761400\n",
            "Epoch 39, CIFAR-10 Batch 5:  Loss:     0.0007 Validation Accuracy: 0.751000\n",
            "Epoch 40, CIFAR-10 Batch 1:  Loss:     0.0009 Validation Accuracy: 0.751600\n",
            "Epoch 40, CIFAR-10 Batch 2:  Loss:     0.0021 Validation Accuracy: 0.752000\n",
            "Epoch 40, CIFAR-10 Batch 3:  Loss:     0.0009 Validation Accuracy: 0.767000\n",
            "Epoch 40, CIFAR-10 Batch 4:  Loss:     0.0007 Validation Accuracy: 0.752200\n",
            "Epoch 40, CIFAR-10 Batch 5:  Loss:     0.0019 Validation Accuracy: 0.764800\n",
            "Epoch 41, CIFAR-10 Batch 1:  Loss:     0.0002 Validation Accuracy: 0.764000\n",
            "Epoch 41, CIFAR-10 Batch 2:  Loss:     0.0004 Validation Accuracy: 0.758800\n",
            "Epoch 41, CIFAR-10 Batch 3:  Loss:     0.0022 Validation Accuracy: 0.769000\n",
            "Epoch 41, CIFAR-10 Batch 4:  Loss:     0.0003 Validation Accuracy: 0.759400\n",
            "Epoch 41, CIFAR-10 Batch 5:  Loss:     0.0009 Validation Accuracy: 0.756400\n",
            "Epoch 42, CIFAR-10 Batch 1:  Loss:     0.0001 Validation Accuracy: 0.767200\n",
            "Epoch 42, CIFAR-10 Batch 2:  Loss:     0.0003 Validation Accuracy: 0.767200\n",
            "Epoch 42, CIFAR-10 Batch 3:  Loss:     0.0005 Validation Accuracy: 0.762400\n",
            "Epoch 42, CIFAR-10 Batch 4:  Loss:     0.0053 Validation Accuracy: 0.764000\n",
            "Epoch 42, CIFAR-10 Batch 5:  Loss:     0.0007 Validation Accuracy: 0.762600\n",
            "Epoch 43, CIFAR-10 Batch 1:  Loss:     0.0025 Validation Accuracy: 0.760200\n",
            "Epoch 43, CIFAR-10 Batch 2:  Loss:     0.0006 Validation Accuracy: 0.750200\n",
            "Epoch 43, CIFAR-10 Batch 3:  Loss:     0.0001 Validation Accuracy: 0.763800\n",
            "Epoch 43, CIFAR-10 Batch 4:  Loss:     0.0012 Validation Accuracy: 0.767000\n",
            "Epoch 43, CIFAR-10 Batch 5:  Loss:     0.0002 Validation Accuracy: 0.744200\n",
            "Epoch 44, CIFAR-10 Batch 1:  Loss:     0.0001 Validation Accuracy: 0.778600\n",
            "Epoch 44, CIFAR-10 Batch 2:  Loss:     0.0013 Validation Accuracy: 0.763800\n",
            "Epoch 44, CIFAR-10 Batch 3:  Loss:     0.0043 Validation Accuracy: 0.753800\n",
            "Epoch 44, CIFAR-10 Batch 4:  Loss:     0.0000 Validation Accuracy: 0.758600\n",
            "Epoch 44, CIFAR-10 Batch 5:  Loss:     0.0025 Validation Accuracy: 0.757000\n",
            "Epoch 45, CIFAR-10 Batch 1:  Loss:     0.0003 Validation Accuracy: 0.763200\n",
            "Epoch 45, CIFAR-10 Batch 2:  Loss:     0.0004 Validation Accuracy: 0.761000\n",
            "Epoch 45, CIFAR-10 Batch 3:  Loss:     0.0001 Validation Accuracy: 0.757800\n",
            "Epoch 45, CIFAR-10 Batch 4:  Loss:     0.0023 Validation Accuracy: 0.754400\n",
            "Epoch 45, CIFAR-10 Batch 5:  Loss:     0.0004 Validation Accuracy: 0.752800\n",
            "Epoch 46, CIFAR-10 Batch 1:  Loss:     0.0005 Validation Accuracy: 0.760600\n",
            "Epoch 46, CIFAR-10 Batch 2:  Loss:     0.0000 Validation Accuracy: 0.755400\n",
            "Epoch 46, CIFAR-10 Batch 3:  Loss:     0.0020 Validation Accuracy: 0.739400\n",
            "Epoch 46, CIFAR-10 Batch 4:  Loss:     0.0030 Validation Accuracy: 0.764400\n",
            "Epoch 46, CIFAR-10 Batch 5:  Loss:     0.0006 Validation Accuracy: 0.752600\n",
            "Epoch 47, CIFAR-10 Batch 1:  Loss:     0.0032 Validation Accuracy: 0.758600\n",
            "Epoch 47, CIFAR-10 Batch 2:  Loss:     0.0001 Validation Accuracy: 0.763400\n",
            "Epoch 47, CIFAR-10 Batch 3:  Loss:     0.0000 Validation Accuracy: 0.768800\n",
            "Epoch 47, CIFAR-10 Batch 4:  Loss:     0.0009 Validation Accuracy: 0.751200\n",
            "Epoch 47, CIFAR-10 Batch 5:  Loss:     0.0002 Validation Accuracy: 0.760800\n",
            "Epoch 48, CIFAR-10 Batch 1:  Loss:     0.0002 Validation Accuracy: 0.756600\n",
            "Epoch 48, CIFAR-10 Batch 2:  Loss:     0.0000 Validation Accuracy: 0.757600\n",
            "Epoch 48, CIFAR-10 Batch 3:  Loss:     0.0001 Validation Accuracy: 0.758400\n",
            "Epoch 48, CIFAR-10 Batch 4:  Loss:     0.0002 Validation Accuracy: 0.762200\n",
            "Epoch 48, CIFAR-10 Batch 5:  Loss:     0.0009 Validation Accuracy: 0.760000\n",
            "Epoch 49, CIFAR-10 Batch 1:  Loss:     0.0002 Validation Accuracy: 0.764800\n",
            "Epoch 49, CIFAR-10 Batch 2:  Loss:     0.0002 Validation Accuracy: 0.762600\n",
            "Epoch 49, CIFAR-10 Batch 3:  Loss:     0.0000 Validation Accuracy: 0.765400\n",
            "Epoch 49, CIFAR-10 Batch 4:  Loss:     0.0007 Validation Accuracy: 0.752400\n",
            "Epoch 49, CIFAR-10 Batch 5:  Loss:     0.0003 Validation Accuracy: 0.762000\n",
            "Epoch 50, CIFAR-10 Batch 1:  Loss:     0.0004 Validation Accuracy: 0.762000\n",
            "Epoch 50, CIFAR-10 Batch 2:  Loss:     0.0004 Validation Accuracy: 0.767600\n",
            "Epoch 50, CIFAR-10 Batch 3:  Loss:     0.0001 Validation Accuracy: 0.756200\n",
            "Epoch 50, CIFAR-10 Batch 4:  Loss:     0.0027 Validation Accuracy: 0.757600\n",
            "Epoch 50, CIFAR-10 Batch 5:  Loss:     0.0000 Validation Accuracy: 0.761000\n"
          ],
          "name": "stdout"
        }
      ]
    },
    {
      "metadata": {
        "id": "91ICaxlV9oS9",
        "colab_type": "text"
      },
      "cell_type": "markdown",
      "source": [
        "# CHECK POINT"
      ]
    },
    {
      "metadata": {
        "id": "JmARHnCb9rjj",
        "colab_type": "text"
      },
      "cell_type": "markdown",
      "source": [
        "## Test Model"
      ]
    },
    {
      "metadata": {
        "id": "w1Kttg1l9s7i",
        "colab_type": "code",
        "colab": {}
      },
      "cell_type": "code",
      "source": [
        "import pickle\n",
        "import numpy as np\n",
        "import matplotlib.pyplot as plt\n",
        "from sklearn.preprocessing import LabelBinarizer\n",
        "\n",
        "def batch_features_labels(features, labels, batch_size):\n",
        "    \"\"\"\n",
        "    Split features and labels into batches\n",
        "    \"\"\"\n",
        "    for start in range(0, len(features), batch_size):\n",
        "        end = min(start + batch_size, len(features))\n",
        "        yield features[start:end], labels[start:end]\n",
        "\n",
        "def display_image_predictions(features, labels, predictions, top_n_predictions):\n",
        "    n_classes = 10\n",
        "    label_names = load_label_names()\n",
        "    label_binarizer = LabelBinarizer()\n",
        "    label_binarizer.fit(range(n_classes))\n",
        "    label_ids = label_binarizer.inverse_transform(np.array(labels))\n",
        "\n",
        "    fig, axies = plt.subplots(nrows=top_n_predictions, ncols=2, figsize=(20, 10))\n",
        "    fig.tight_layout()\n",
        "    fig.suptitle('Softmax Predictions', fontsize=20, y=1.1)\n",
        "\n",
        "    n_predictions = 3\n",
        "    margin = 0.05\n",
        "    ind = np.arange(n_predictions)\n",
        "    width = (1. - 2. * margin) / n_predictions\n",
        "   \n",
        "    for image_i, (feature, label_id, pred_indicies, pred_values) in enumerate(zip(features, label_ids, predictions.indices, predictions.values)):\n",
        "        if (image_i < top_n_predictions):\n",
        "            pred_names = [label_names[pred_i] for pred_i in pred_indicies]\n",
        "            correct_name = label_names[label_id]\n",
        "            \n",
        "            axies[image_i][0].imshow((feature*255).astype(np.uint8, copy=False))\n",
        "            axies[image_i][0].set_title(correct_name)\n",
        "            axies[image_i][0].set_axis_off()\n",
        "\n",
        "            axies[image_i][1].barh(ind + margin, pred_values[:3], width)\n",
        "            axies[image_i][1].set_yticks(ind + margin)\n",
        "            axies[image_i][1].set_yticklabels(pred_names[::-1])\n",
        "            axies[image_i][1].set_xticks([0, 0.5, 1.0])"
      ],
      "execution_count": 0,
      "outputs": []
    },
    {
      "metadata": {
        "id": "5JJBlTSv9wVE",
        "colab_type": "code",
        "outputId": "c483c41a-7b19-4076-9d11-336e8385efba",
        "colab": {
          "base_uri": "https://localhost:8080/",
          "height": 863
        }
      },
      "cell_type": "code",
      "source": [
        "%matplotlib inline\n",
        "%config InlineBackend.figure_format = 'retina'\n",
        "\n",
        "import tensorflow as tf\n",
        "import pickle\n",
        "import random\n",
        "\n",
        "save_model_path = './image_classification'\n",
        "batch_size = 64\n",
        "n_samples = 10\n",
        "top_n_predictions = 5\n",
        "\n",
        "def test_model():\n",
        "    test_features, test_labels = pickle.load(open('preprocess_training.p', mode='rb'))\n",
        "    loaded_graph = tf.Graph()\n",
        "\n",
        "    with tf.Session(graph=loaded_graph) as sess:\n",
        "        # Load model\n",
        "        loader = tf.train.import_meta_graph(save_model_path + '.meta')\n",
        "        loader.restore(sess, save_model_path)\n",
        "\n",
        "        # Get Tensors from loaded model\n",
        "        loaded_x = loaded_graph.get_tensor_by_name('input_x:0')\n",
        "        loaded_y = loaded_graph.get_tensor_by_name('output_y:0')\n",
        "        loaded_keep_prob = loaded_graph.get_tensor_by_name('keep_prob:0')\n",
        "        loaded_logits = loaded_graph.get_tensor_by_name('logits:0')\n",
        "        loaded_acc = loaded_graph.get_tensor_by_name('accuracy:0')\n",
        "        \n",
        "        # Get accuracy in batches for memory limitations\n",
        "        test_batch_acc_total = 0\n",
        "        test_batch_count = 0\n",
        "        \n",
        "        for train_feature_batch, train_label_batch in batch_features_labels(test_features, test_labels, batch_size):\n",
        "            test_batch_acc_total += sess.run(\n",
        "                loaded_acc,\n",
        "                feed_dict={loaded_x: train_feature_batch, loaded_y: train_label_batch, loaded_keep_prob: 1.0})\n",
        "            test_batch_count += 1\n",
        "\n",
        "        print('Testing Accuracy: {}\\n'.format(test_batch_acc_total/test_batch_count))\n",
        "\n",
        "        # Print Random Samples\n",
        "        random_test_features, random_test_labels = tuple(zip(*random.sample(list(zip(test_features, test_labels)), n_samples)))\n",
        "        random_test_predictions = sess.run(\n",
        "            tf.nn.top_k(tf.nn.softmax(loaded_logits), top_n_predictions),\n",
        "            feed_dict={loaded_x: random_test_features, loaded_y: random_test_labels, loaded_keep_prob: 1.0})\n",
        "        display_image_predictions(random_test_features, random_test_labels, random_test_predictions, top_n_predictions)\n",
        "\n",
        "\n",
        "test_model()"
      ],
      "execution_count": 0,
      "outputs": [
        {
          "output_type": "stream",
          "text": [
            "INFO:tensorflow:Restoring parameters from ./image_classification\n",
            "Testing Accuracy: 0.7640326433121019\n",
            "\n"
          ],
          "name": "stdout"
        },
        {
          "output_type": "display_data",
          "data": {
            "image/png": "[encoded data removed]",
            "text/plain": [
              "<matplotlib.figure.Figure at 0x7f43d06326a0>"
            ]
          },
          "metadata": {
            "tags": [],
            "image/png": {
              "width": 1144,
              "height": 795
            }
          }
        }
      ]
    }
  ]
}
